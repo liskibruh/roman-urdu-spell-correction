{
 "cells": [
  {
   "cell_type": "code",
   "execution_count": null,
   "metadata": {},
   "outputs": [],
   "source": [
    "def extract_unique_words(input_file, output_file):\n",
    "    # Open the input file in read mode\n",
    "    with open(input_file, 'r') as f:\n",
    "        # Read the entire file content\n",
    "        text = f.read()\n",
    "        \n",
    "        # Split the text into words\n",
    "        words = text.split()\n",
    "        \n",
    "        # Extract unique words\n",
    "        unique_words = set(words)\n",
    "        \n",
    "        # Sort the unique words alphabetically\n",
    "        sorted_words = sorted(unique_words)\n",
    "        \n",
    "        # Open the output file in write mode\n",
    "        with open(output_file, 'w') as out_file:\n",
    "            # Write each word to the output file\n",
    "            for word in sorted_words:\n",
    "                out_file.write(word + '\\n')"
   ]
  },
  {
   "cell_type": "code",
   "execution_count": null,
   "metadata": {},
   "outputs": [],
   "source": [
    "# Input and output file paths\n",
    "input_file = 'data.txt'\n",
    "output_file = 'dictionary.data'\n",
    "\n",
    "# Call the function to extract unique words and write them to the output file\n",
    "extract_unique_words(input_file, output_file)"
   ]
  },
  {
   "cell_type": "code",
   "execution_count": null,
   "metadata": {},
   "outputs": [],
   "source": [
    "def replace_comma(input_file, output_file):\n",
    "    # Open the input file in read mode\n",
    "    with open(input_file, 'r') as f:\n",
    "        # Read the lines of the file\n",
    "        lines = f.readlines()\n",
    "\n",
    "    # Open the output file in write mode\n",
    "    with open(output_file, 'w') as out_file:\n",
    "        # Iterate over the lines\n",
    "        for line in lines:\n",
    "            # Replace commas with colons\n",
    "            modified_line = line.replace(',', ':')\n",
    "            # Write the modified line to the output file\n",
    "            out_file.write(modified_line)"
   ]
  },
  {
   "cell_type": "code",
   "execution_count": null,
   "metadata": {},
   "outputs": [],
   "source": [
    "\n",
    "# Input and output file paths\n",
    "input_file = 'misspellings.txt'\n",
    "output_file = 'spellerrors.data'\n",
    "\n",
    "# Call the function to replace commas and write the modified data to the output file\n",
    "replace_comma(input_file, output_file)"
   ]
  }
 ],
 "metadata": {
  "language_info": {
   "name": "python"
  }
 },
 "nbformat": 4,
 "nbformat_minor": 2
}
